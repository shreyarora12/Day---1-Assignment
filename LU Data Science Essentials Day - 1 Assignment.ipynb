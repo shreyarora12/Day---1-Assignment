{
 "cells": [
  {
   "cell_type": "raw",
   "metadata": {},
   "source": [
    "Question 1: Given the following jumbled word, OBANWRI guess the correct English word. \n",
    "A. RANIBOW B. RAINBOW C. BOWRANI D. ROBWANI"
   ]
  },
  {
   "cell_type": "code",
   "execution_count": 5,
   "metadata": {},
   "outputs": [
    {
     "name": "stdout",
     "output_type": "stream",
     "text": [
      "NIWBROA is incorrect\n",
      "The correct option is: RAINBOW\n"
     ]
    }
   ],
   "source": [
    "import random\n",
    "\n",
    "def shuffling(given):\n",
    "    given = str(given)\n",
    "    words = ['RAINBOW','RANIBOW','BOWRANI','ROBWANI']\n",
    "    shuffled = ''.join(random.sample(given,len(given)))\n",
    "    if shuffled=='RAINBOW':\n",
    "        return shuffled\n",
    "        print(\"The correct option is: RAINBOW\")\n",
    "    else:\n",
    "        #shuffling(given)\n",
    "        print(shuffled,\"is incorrect\")\n",
    "        print(\"The correct option is: RAINBOW\")\n",
    "shuffling('OBANWRI')"
   ]
  },
  {
   "cell_type": "raw",
   "metadata": {},
   "source": [
    "Question 2: Write a program which prints “LETS UPGRADE”. (Please note that you have to\n",
    "print in ALL CAPS as given)"
   ]
  },
  {
   "cell_type": "code",
   "execution_count": 1,
   "metadata": {},
   "outputs": [
    {
     "name": "stdout",
     "output_type": "stream",
     "text": [
      "LETS UPGRADE\n"
     ]
    }
   ],
   "source": [
    "print('LETS UPGRADE')"
   ]
  },
  {
   "cell_type": "raw",
   "metadata": {},
   "source": [
    "Question 3: Write a program that takes cost price and selling price as input and displays whether the transaction is a\n",
    "Profit or a Loss or Neither.\n",
    "INPUT FORMAT\n",
    "The first line contains the cost price.\n",
    "The second line contains the selling price.\n",
    "OUTPUT FORMAT\n",
    "Print \"Profit\" if the transaction is a profit or \"Loss\" if it is a loss. If it is neither\n",
    "profit nor loss, print \"Neither\". (You must not have quotes in your output)"
   ]
  },
  {
   "cell_type": "code",
   "execution_count": 6,
   "metadata": {},
   "outputs": [
    {
     "name": "stdout",
     "output_type": "stream",
     "text": [
      "20\n",
      "30\n",
      "Profit\n"
     ]
    }
   ],
   "source": [
    "CP = float(input(\"\"))\n",
    "\n",
    "SP = float(input(\"\"))\n",
    "\n",
    "if(CP > SP):\n",
    "\n",
    "  print(\"Loss\")\n",
    "\n",
    "elif(SP > CP):\n",
    "\n",
    "  print(\"Profit\")\n",
    "\n",
    "else:\n",
    "\n",
    "  print(\"Neither\")"
   ]
  },
  {
   "cell_type": "raw",
   "metadata": {},
   "source": [
    "Question 4:Write a program that takes an amount in Euros as input. You need to find its equivalent in\n",
    "Rupees and display it. Assume 1 Euro equals Rs. 80.\n",
    "Please note that you are expected to stick to the given input and output\n",
    "format as in sample test cases. Please don't add any extra lines such as\n",
    "'Enter a number', etc.\n",
    "Your program should take only one number as input and display the output."
   ]
  },
  {
   "cell_type": "code",
   "execution_count": 1,
   "metadata": {},
   "outputs": [
    {
     "name": "stdout",
     "output_type": "stream",
     "text": [
      "20\n",
      "1600\n"
     ]
    }
   ],
   "source": [
    "a = int(input(\"\")) #Input taken in Euros\n",
    "# 1 Euro equals Rs. 80 and below is \n",
    "b = a*80\n",
    "print(b)"
   ]
  },
  {
   "cell_type": "code",
   "execution_count": null,
   "metadata": {},
   "outputs": [],
   "source": []
  }
 ],
 "metadata": {
  "kernelspec": {
   "display_name": "Python 3",
   "language": "python",
   "name": "python3"
  },
  "language_info": {
   "codemirror_mode": {
    "name": "ipython",
    "version": 3
   },
   "file_extension": ".py",
   "mimetype": "text/x-python",
   "name": "python",
   "nbconvert_exporter": "python",
   "pygments_lexer": "ipython3",
   "version": "3.8.3"
  }
 },
 "nbformat": 4,
 "nbformat_minor": 4
}
